{
  "nbformat": 4,
  "nbformat_minor": 0,
  "metadata": {
    "anaconda-cloud": {},
    "kernelspec": {
      "display_name": "Python 3",
      "language": "python",
      "name": "python2"
    },
    "language_info": {
      "codemirror_mode": {
        "name": "ipython",
        "version": 2
      },
      "file_extension": ".py",
      "mimetype": "text/x-python",
      "name": "python",
      "nbconvert_exporter": "python",
      "pygments_lexer": "ipython2",
      "version": "2.7.15"
    },
    "colab": {
      "name": "Copy of 01.01-Understanding-Data-Types.ipynb",
      "provenance": [],
      "collapsed_sections": [],
      "include_colab_link": true
    }
  },
  "cells": [
    {
      "cell_type": "markdown",
      "metadata": {
        "id": "view-in-github",
        "colab_type": "text"
      },
      "source": [
        "<a href=\"https://colab.research.google.com/github/htapiagroup/introduccion-a-numpy-JHermosillaD/blob/master/Copy_of_01_01_Understanding_Data_Types.ipynb\" target=\"_parent\"><img src=\"https://colab.research.google.com/assets/colab-badge.svg\" alt=\"Open In Colab\"/></a>"
      ]
    },
    {
      "cell_type": "markdown",
      "metadata": {
        "id": "qZKdQouWfB2A",
        "colab_type": "text"
      },
      "source": [
        "<!--BOOK_INFORMATION-->\n",
        "<img align=\"left\" style=\"padding-right:10px;\" src=\"https://github.com/htapia/TallerPythonIntroCienciaDatos/blob/master/notebooks/figures/header_small.png?raw=1\">\n",
        "\n",
        "*Esta libreta contiene material del Taller de Python que se lleva a cabo como parte del \n",
        "evento [Data Challenge Industrial 4.0](www.lania.mx/dci). El contenido ha sido adaptado \n",
        "por HTM y GED a partir del libro [Python Data Science Handbook](http://shop.oreilly.com/product/0636920034919.do) \n",
        "de Jake VanderPlas y se mantiene la licencia sobre el texto, \n",
        "[CC-BY-NC-ND license](https://creativecommons.org/licenses/by-nc-nd/3.0/us/legalcode), \n",
        "y sobre el codigo [MIT license](https://opensource.org/licenses/MIT).*"
      ]
    },
    {
      "cell_type": "markdown",
      "metadata": {
        "id": "fT4PY1W3fB2U",
        "colab_type": "text"
      },
      "source": [
        "<!--NAVIGATION-->\n",
        "< [Introducción a NumPy](01.00-Introduction-to-NumPy.ipynb) | [Contenido](Index.ipynb) | [Basicos de NumPy: arreglos](01.02-The-Basics-Of-NumPy-Arrays.ipynb) >\n",
        "\n",
        "<a href=\"https://colab.research.google.com/github/htapia/TallerPythonIntroCienciaDatos/blob/master/notebooks/01.01-Understanding-Data-Types.ipynb\"><img align=\"left\" src=\"https://colab.research.google.com/assets/colab-badge.svg\" alt=\"Open in Colab\" title=\"Open and Execute in Google Colaboratory\"></a>\n"
      ]
    },
    {
      "cell_type": "markdown",
      "metadata": {
        "id": "v2gBhmQ3fB2n",
        "colab_type": "text"
      },
      "source": [
        "# Tipos de Datos en Python"
      ]
    },
    {
      "cell_type": "markdown",
      "metadata": {
        "id": "x7Rez-YEfB26",
        "colab_type": "text"
      },
      "source": [
        "* Lenguajes de tipado estático como C o Java requieren que cada vriable sea declarada explicitamente\n",
        "* Python en un lenguaje de tipado dinámico y no requiere ésta especificación\n",
        "Por ejemplo en C especificamos una operación como sigue:\n",
        "\n",
        "```C\n",
        "/* codigo en C */\n",
        "int result = 0;\n",
        "for(int i=0; i<100; i++){\n",
        "    result += i;\n",
        "}\n",
        "```\n",
        "\n",
        "En Python la operación equivalente puede escribirse de la siguiente forma:\n",
        "\n",
        "```python\n",
        "# codigo en Python\n",
        "result = 0\n",
        "for i in range(100):\n",
        "    result += i\n",
        "```\n",
        "\n",
        "La diferencia principal es \n",
        "* en C el tipo de cada variable debe especificarse explicitamente\n",
        "* en Python el tipo de cada variable es inferido dinamicamente\n",
        "\n",
        "De este modo, en Python podemos asignar cualquier tipo de datos a cualquier variables:\n",
        "\n",
        "```python\n",
        "# codigo Python\n",
        "x = 4\n",
        "x = \"four\"\n",
        "```\n",
        "\n",
        "El equivalente en C sería como sigue, sin embargo, tendría errores de compilación o consecuencias inesperadas:\n",
        "\n",
        "```C\n",
        "/* codigo C */\n",
        "int x = 4;\n",
        "x = \"four\";  // ERROR\n",
        "```\n",
        "\n",
        "* Las variables en Python son más que sólo su valor\n",
        "* Contienen información extra sobre el tipo de valor, es decir el tipo de dato que representan."
      ]
    },
    {
      "cell_type": "markdown",
      "metadata": {
        "id": "l9uJZAmufB3L",
        "colab_type": "text"
      },
      "source": [
        "## Enteros en Python\n",
        "\n",
        "* La implementacion standard de Python está escrita en C.\n",
        "* Si  definimos un entero en Python, ``x = 10000``, ``x`` es un apuntador a una estructura de C:\n",
        "\n",
        "```C\n",
        "struct _longobject {\n",
        "    long ob_refcnt;\n",
        "    PyTypeObject *ob_type;\n",
        "    size_t ob_size;\n",
        "    long ob_digit[1];\n",
        "};\n",
        "```\n",
        "\n",
        "- Un entero en Python contiene cuatro partes:\n",
        "\n",
        " - ``ob_refcnt``, un contador que ayuda en la asignación y liberación de memoria\n",
        " - ``ob_type``, codifica el tipo de variable\n",
        " - ``ob_size``, especifica el tamaño\n",
        " - ``ob_digit``, contiene el valor asignado que representa la variable.\n",
        "\n",
        "* Esto causa un pequeño _overhead_ cuando se crea un entero en Python en comparación con C, como se ilustra a continuación:"
      ]
    },
    {
      "cell_type": "markdown",
      "metadata": {
        "id": "kPbOc1lQfB3h",
        "colab_type": "text"
      },
      "source": [
        "![Integer Memory Layout](https://github.com/htapia/TallerPythonIntroCienciaDatos/blob/master/notebooks/figures/cint_vs_pyint.png?raw=1)"
      ]
    },
    {
      "cell_type": "markdown",
      "metadata": {
        "id": "Qjy0XMwzfB3z",
        "colab_type": "text"
      },
      "source": [
        "## Listas en Python \n",
        "\n",
        "Una lista es una estructura de datos que permite colectar objetos. \n",
        "Creamos una lista de enteros de la siguiente forma:"
      ]
    },
    {
      "cell_type": "code",
      "metadata": {
        "id": "hIqK_KWofB4Q",
        "colab_type": "code",
        "outputId": "7d960cbe-8ebb-41b4-d928-808a53c88742",
        "colab": {
          "base_uri": "https://localhost:8080/",
          "height": 35
        }
      },
      "source": [
        "L = list(range(10))\n",
        "L"
      ],
      "execution_count": 0,
      "outputs": [
        {
          "output_type": "execute_result",
          "data": {
            "text/plain": [
              "[0, 1, 2, 3, 4, 5, 6, 7, 8, 9]"
            ]
          },
          "metadata": {
            "tags": []
          },
          "execution_count": 1
        }
      ]
    },
    {
      "cell_type": "code",
      "metadata": {
        "id": "nZT1GipdfB5T",
        "colab_type": "code",
        "outputId": "9814e985-fe9e-4639-df2b-732676a0eea7",
        "colab": {
          "base_uri": "https://localhost:8080/",
          "height": 35
        }
      },
      "source": [
        "type(L[0])"
      ],
      "execution_count": 0,
      "outputs": [
        {
          "output_type": "execute_result",
          "data": {
            "text/plain": [
              "int"
            ]
          },
          "metadata": {
            "tags": []
          },
          "execution_count": 2
        }
      ]
    },
    {
      "cell_type": "markdown",
      "metadata": {
        "id": "yIL0X9fAfB6Q",
        "colab_type": "text"
      },
      "source": [
        "O una lista de caracteres de texto:"
      ]
    },
    {
      "cell_type": "code",
      "metadata": {
        "id": "DluES66KfB6g",
        "colab_type": "code",
        "outputId": "92d1febd-1053-4673-9e02-7b00b2fd9b6d",
        "colab": {
          "base_uri": "https://localhost:8080/",
          "height": 35
        }
      },
      "source": [
        "L2 = [str(c) for c in L]\n",
        "L2"
      ],
      "execution_count": 0,
      "outputs": [
        {
          "output_type": "execute_result",
          "data": {
            "text/plain": [
              "['0', '1', '2', '3', '4', '5', '6', '7', '8', '9']"
            ]
          },
          "metadata": {
            "tags": []
          },
          "execution_count": 3
        }
      ]
    },
    {
      "cell_type": "code",
      "metadata": {
        "id": "itJoADWkfB7K",
        "colab_type": "code",
        "outputId": "e6eb5d34-4b58-4c86-f60c-12b645bc3cfe",
        "colab": {
          "base_uri": "https://localhost:8080/",
          "height": 35
        }
      },
      "source": [
        "type(L2[0])"
      ],
      "execution_count": 0,
      "outputs": [
        {
          "output_type": "execute_result",
          "data": {
            "text/plain": [
              "str"
            ]
          },
          "metadata": {
            "tags": []
          },
          "execution_count": 4
        }
      ]
    },
    {
      "cell_type": "markdown",
      "metadata": {
        "id": "rqRLCNo5fB7m",
        "colab_type": "text"
      },
      "source": [
        "Gracias al tipado dinámico podemos crear listas heterogéneas:"
      ]
    },
    {
      "cell_type": "code",
      "metadata": {
        "id": "nM3hfipkfB7v",
        "colab_type": "code",
        "outputId": "f36ac229-c714-4ee0-9f75-87f6b1b2efc3",
        "colab": {
          "base_uri": "https://localhost:8080/",
          "height": 35
        }
      },
      "source": [
        "L3 = [True, \"2\", 3.0, 4]\n",
        "[type(item) for item in L3]"
      ],
      "execution_count": 0,
      "outputs": [
        {
          "output_type": "execute_result",
          "data": {
            "text/plain": [
              "[bool, str, float, int]"
            ]
          },
          "metadata": {
            "tags": []
          },
          "execution_count": 5
        }
      ]
    },
    {
      "cell_type": "markdown",
      "metadata": {
        "id": "j6VLglejfB8c",
        "colab_type": "text"
      },
      "source": [
        "- Esta felixibilidad tiene un costo pues cada elemento en la lista contiene es una referencia a una estructura que define el objeto de Python.\n",
        "- En el caso especial que todas las entradas son del mismo tipo habrá información redundante: - Sería mas eficiente usar un arreglo de tipo fijo\n",
        "- La diferencia entre listas dinámicas y de tipo fijo (como NumPy) se ilustra en la siguiente figura:"
      ]
    },
    {
      "cell_type": "markdown",
      "metadata": {
        "id": "JZWUm2JwfB8l",
        "colab_type": "text"
      },
      "source": [
        "![Array Memory Layout](https://github.com/htapia/TallerPythonIntroCienciaDatos/blob/master/notebooks/figures/array_vs_list.png?raw=1)"
      ]
    },
    {
      "cell_type": "markdown",
      "metadata": {
        "id": "ftkCx3ebfB8v",
        "colab_type": "text"
      },
      "source": [
        "- El arreglo contiene un apuntador único a un bloque contiguo de datos\n",
        "- La lista contiene un apuntador a un bloque de apuntadores, cada uno apuntando a un objeto de Python (como el objeto entero que vimos antes)\n",
        "- La lista puede tener objetos y datos de cualquier tipo\n",
        "- El arreglo fijo no puede hacerlo, pero es mas eficiente para guardar y manipular los datos"
      ]
    },
    {
      "cell_type": "markdown",
      "metadata": {
        "id": "Ko8Emz4pfB84",
        "colab_type": "text"
      },
      "source": [
        "## Arreglos de Tipo Fijo en Python\n",
        "\n",
        "- En Python hay diferentes opciones para guardar datos en buffers de tipo fijo\n",
        "- El modulo interno ``array`` (disponible a partir de Python 3.3) sirve para crear arreglos densos de tipo uniforme:"
      ]
    },
    {
      "cell_type": "code",
      "metadata": {
        "id": "Q-22qoZQfB9C",
        "colab_type": "code",
        "outputId": "00a8efd1-fd64-4581-b617-5aacf22ba81a",
        "colab": {
          "base_uri": "https://localhost:8080/",
          "height": 35
        }
      },
      "source": [
        "import array\n",
        "L = list(range(10))\n",
        "A = array.array('i', L)\n",
        "A"
      ],
      "execution_count": 0,
      "outputs": [
        {
          "output_type": "execute_result",
          "data": {
            "text/plain": [
              "array('i', [0, 1, 2, 3, 4, 5, 6, 7, 8, 9])"
            ]
          },
          "metadata": {
            "tags": []
          },
          "execution_count": 6
        }
      ]
    },
    {
      "cell_type": "markdown",
      "metadata": {
        "id": "kmnkyKgyfB9m",
        "colab_type": "text"
      },
      "source": [
        "- Aquí ``'i'`` indica que las entradas son enteros.\n",
        "- El objeto ``ndarray`` de la libreria NumPy  es mucho mas útil ya que implementa operaciones sobre los datos contenidos.\n",
        "- Antes de explorar estas operaciones, veamos diversas maneras de crear arreglos de NumPy\n",
        "- Comenzamos con la manera standard de importar NumPy, usando el alias ``np``:"
      ]
    },
    {
      "cell_type": "code",
      "metadata": {
        "id": "KjhkbdHgfB92",
        "colab_type": "code",
        "colab": {}
      },
      "source": [
        "import numpy as np"
      ],
      "execution_count": 0,
      "outputs": []
    },
    {
      "cell_type": "markdown",
      "metadata": {
        "id": "5z-hrT-IfB-Z",
        "colab_type": "text"
      },
      "source": [
        "## Crear Arreglos a partir de Listas de Python\n",
        "\n",
        "Podemos usar ``np.array`` para crear arreglos a partir de listas:"
      ]
    },
    {
      "cell_type": "code",
      "metadata": {
        "id": "-ILUfLfAfB-r",
        "colab_type": "code",
        "outputId": "4166483e-fe97-4275-9bfa-bbc589feaecd",
        "colab": {
          "base_uri": "https://localhost:8080/",
          "height": 35
        }
      },
      "source": [
        "# integer array:\n",
        "np.array([1, 4, 2, 5, 3])"
      ],
      "execution_count": 0,
      "outputs": [
        {
          "output_type": "execute_result",
          "data": {
            "text/plain": [
              "array([1, 4, 2, 5, 3])"
            ]
          },
          "metadata": {
            "tags": []
          },
          "execution_count": 8
        }
      ]
    },
    {
      "cell_type": "markdown",
      "metadata": {
        "id": "VzJAIriWfB_C",
        "colab_type": "text"
      },
      "source": [
        "- A diferencia de las lista en Python, NumPy está restringif a arreglos que contienen el mismo tipo de datos\n",
        "- Si los tipos no coinciden NumPy trata de ajustar (*upcast*, emitir) si es posible\n",
        "- En el siguiente ejemplo, los enteros se emiten a punto flotante:"
      ]
    },
    {
      "cell_type": "code",
      "metadata": {
        "id": "OVKtn3sJfB_L",
        "colab_type": "code",
        "outputId": "52b35304-c260-401f-90e3-c9f66b24a608",
        "colab": {
          "base_uri": "https://localhost:8080/",
          "height": 35
        }
      },
      "source": [
        "np.array([3.14, 4, 2, 3])"
      ],
      "execution_count": 0,
      "outputs": [
        {
          "output_type": "execute_result",
          "data": {
            "text/plain": [
              "array([3.14, 4.  , 2.  , 3.  ])"
            ]
          },
          "metadata": {
            "tags": []
          },
          "execution_count": 9
        }
      ]
    },
    {
      "cell_type": "markdown",
      "metadata": {
        "id": "YBVBSU5_fB_l",
        "colab_type": "text"
      },
      "source": [
        "- Podemos indicar el tipo de datos del arreglo explicitamente usando la palabra ``dtype``:"
      ]
    },
    {
      "cell_type": "code",
      "metadata": {
        "id": "NZ43HYDZfB_v",
        "colab_type": "code",
        "outputId": "636108c8-731a-4d7c-90db-ee1719b70108",
        "colab": {
          "base_uri": "https://localhost:8080/",
          "height": 35
        }
      },
      "source": [
        "np.array([1, 2, 3, 4], dtype='float32')"
      ],
      "execution_count": 0,
      "outputs": [
        {
          "output_type": "execute_result",
          "data": {
            "text/plain": [
              "array([1., 2., 3., 4.], dtype=float32)"
            ]
          },
          "metadata": {
            "tags": []
          },
          "execution_count": 10
        }
      ]
    },
    {
      "cell_type": "markdown",
      "metadata": {
        "id": "ulUZFT7sfCAM",
        "colab_type": "text"
      },
      "source": [
        "- A diferencia de las listas, los arreglos de NumPy pueden ser explicitamente multi-dimensionales\n",
        "- A continuación, una forma de inicializar un arreglo multidimensional usando una lista de listas:"
      ]
    },
    {
      "cell_type": "code",
      "metadata": {
        "id": "gfa3sUZxfCAU",
        "colab_type": "code",
        "outputId": "72d1cbbb-9344-40f8-ed95-5d0a5f3389c1",
        "colab": {
          "base_uri": "https://localhost:8080/",
          "height": 71
        }
      },
      "source": [
        "# nested lists result in multi-dimensional arrays\n",
        "np.array([range(i, i + 3) for i in [2, 4, 6]])"
      ],
      "execution_count": 0,
      "outputs": [
        {
          "output_type": "execute_result",
          "data": {
            "text/plain": [
              "array([[2, 3, 4],\n",
              "       [4, 5, 6],\n",
              "       [6, 7, 8]])"
            ]
          },
          "metadata": {
            "tags": []
          },
          "execution_count": 11
        }
      ]
    },
    {
      "cell_type": "markdown",
      "metadata": {
        "id": "Q6VZSKI8fCBC",
        "colab_type": "text"
      },
      "source": [
        "- Las listas interiores se toman como renglones del arreglo bidimensional resultante"
      ]
    },
    {
      "cell_type": "markdown",
      "metadata": {
        "id": "j_0Uea4afCBK",
        "colab_type": "text"
      },
      "source": [
        "## Creando Arreglos \n",
        "\n",
        "- Para arreglos grandes, es mas eficiente crearlos usando rutinas implementadas en NumPy:"
      ]
    },
    {
      "cell_type": "code",
      "metadata": {
        "id": "UAklLd-lfCBQ",
        "colab_type": "code",
        "outputId": "2cb5e16e-0d5f-4824-d4ac-91d9a63012d3",
        "colab": {
          "base_uri": "https://localhost:8080/",
          "height": 35
        }
      },
      "source": [
        "# Crea arreglo de enteros de longitud-10 lleno de ceros\n",
        "np.zeros(10, dtype=int)"
      ],
      "execution_count": 0,
      "outputs": [
        {
          "output_type": "execute_result",
          "data": {
            "text/plain": [
              "array([0, 0, 0, 0, 0, 0, 0, 0, 0, 0])"
            ]
          },
          "metadata": {
            "tags": []
          },
          "execution_count": 12
        }
      ]
    },
    {
      "cell_type": "code",
      "metadata": {
        "id": "YW7MZK7qfCBn",
        "colab_type": "code",
        "outputId": "a4e97231-5ca1-4c8f-823e-0346c7022557",
        "colab": {
          "base_uri": "https://localhost:8080/",
          "height": 71
        }
      },
      "source": [
        "# Crea arreglo con puntos flotantes de dimensiones 3x5 (3 renglones, 5 columnas) lleno de unos\n",
        "np.ones((3, 5), dtype=float)"
      ],
      "execution_count": 0,
      "outputs": [
        {
          "output_type": "execute_result",
          "data": {
            "text/plain": [
              "array([[1., 1., 1., 1., 1.],\n",
              "       [1., 1., 1., 1., 1.],\n",
              "       [1., 1., 1., 1., 1.]])"
            ]
          },
          "metadata": {
            "tags": []
          },
          "execution_count": 13
        }
      ]
    },
    {
      "cell_type": "code",
      "metadata": {
        "id": "Qks7jwZFfCCA",
        "colab_type": "code",
        "outputId": "f0b1b198-d271-49ee-e7cd-e0165b5d0ad9",
        "colab": {
          "base_uri": "https://localhost:8080/",
          "height": 71
        }
      },
      "source": [
        "# Crea arreglo de 3x5 array lleno de 3.14\n",
        "np.full((3, 5), 3.14)"
      ],
      "execution_count": 0,
      "outputs": [
        {
          "output_type": "execute_result",
          "data": {
            "text/plain": [
              "array([[3.14, 3.14, 3.14, 3.14, 3.14],\n",
              "       [3.14, 3.14, 3.14, 3.14, 3.14],\n",
              "       [3.14, 3.14, 3.14, 3.14, 3.14]])"
            ]
          },
          "metadata": {
            "tags": []
          },
          "execution_count": 14
        }
      ]
    },
    {
      "cell_type": "code",
      "metadata": {
        "id": "5epeOvT9fCCZ",
        "colab_type": "code",
        "outputId": "9c81d9a2-a0a1-43fa-db3b-dbc972e5abbb",
        "colab": {
          "base_uri": "https://localhost:8080/",
          "height": 35
        }
      },
      "source": [
        "# Crea arreglo lleno con una secuencia lineal de numeros\n",
        "# Empieza en 0, acaba en 20, en pasos de 2\n",
        "# (similar a la funcion interna range())\n",
        "np.arange(0, 20, 2)"
      ],
      "execution_count": 0,
      "outputs": [
        {
          "output_type": "execute_result",
          "data": {
            "text/plain": [
              "array([ 0,  2,  4,  6,  8, 10, 12, 14, 16, 18])"
            ]
          },
          "metadata": {
            "tags": []
          },
          "execution_count": 15
        }
      ]
    },
    {
      "cell_type": "code",
      "metadata": {
        "id": "yUmHbJk3fCC4",
        "colab_type": "code",
        "outputId": "c00a0782-d71f-4915-dcad-14ed1a1711a3",
        "colab": {
          "base_uri": "https://localhost:8080/",
          "height": 35
        }
      },
      "source": [
        "# Crea array de cinco valores igualmente espaciados entre 0 y 1\n",
        "np.linspace(0, 1, 5)"
      ],
      "execution_count": 0,
      "outputs": [
        {
          "output_type": "execute_result",
          "data": {
            "text/plain": [
              "array([0.  , 0.25, 0.5 , 0.75, 1.  ])"
            ]
          },
          "metadata": {
            "tags": []
          },
          "execution_count": 16
        }
      ]
    },
    {
      "cell_type": "code",
      "metadata": {
        "id": "PT585JgKfCDM",
        "colab_type": "code",
        "outputId": "1645ef8d-db56-4b23-bcd9-3719e6fad322",
        "colab": {
          "base_uri": "https://localhost:8080/",
          "height": 71
        }
      },
      "source": [
        "# Crea un arreglo de 3x3 con valores aleatorios\n",
        "# distribuidos de manera uniforma entre 0 y 1\n",
        "np.random.random((3, 3))"
      ],
      "execution_count": 0,
      "outputs": [
        {
          "output_type": "execute_result",
          "data": {
            "text/plain": [
              "array([[0.02088768, 0.64517683, 0.72014339],\n",
              "       [0.4448909 , 0.11905634, 0.479149  ],\n",
              "       [0.22125209, 0.88792289, 0.00754875]])"
            ]
          },
          "metadata": {
            "tags": []
          },
          "execution_count": 17
        }
      ]
    },
    {
      "cell_type": "code",
      "metadata": {
        "id": "lyIlz33AfCD6",
        "colab_type": "code",
        "outputId": "6183af51-9d78-451f-e188-7bbd51ef7711",
        "colab": {
          "base_uri": "https://localhost:8080/",
          "height": 71
        }
      },
      "source": [
        "# Crea un arreglo de 3x3 con valores aleatorios\n",
        "# distribuidos de manera normal con media 0 y desviacion estandard 1\n",
        "np.random.normal(0, 1, (3, 3))"
      ],
      "execution_count": 0,
      "outputs": [
        {
          "output_type": "execute_result",
          "data": {
            "text/plain": [
              "array([[-0.49495584, -0.54841128,  0.5030196 ],\n",
              "       [ 1.15545504, -1.50135543, -2.11398461],\n",
              "       [ 0.42782109,  0.31153899,  0.88015027]])"
            ]
          },
          "metadata": {
            "tags": []
          },
          "execution_count": 18
        }
      ]
    },
    {
      "cell_type": "code",
      "metadata": {
        "id": "3b97xlHCfCEK",
        "colab_type": "code",
        "outputId": "30b2af74-fdb8-442a-baa9-a3b5b1c500af",
        "colab": {
          "base_uri": "https://localhost:8080/",
          "height": 71
        }
      },
      "source": [
        "# Crea array de 3x3 de numeros enterros aleatorios tomados del intervalo [0, 10)\n",
        "np.random.randint(0, 10, (3, 3))"
      ],
      "execution_count": 0,
      "outputs": [
        {
          "output_type": "execute_result",
          "data": {
            "text/plain": [
              "array([[0, 3, 1],\n",
              "       [7, 6, 0],\n",
              "       [3, 1, 7]])"
            ]
          },
          "metadata": {
            "tags": []
          },
          "execution_count": 19
        }
      ]
    },
    {
      "cell_type": "code",
      "metadata": {
        "id": "21N5wPbefCEc",
        "colab_type": "code",
        "outputId": "425317de-6662-4208-8094-edfbc1e11d37",
        "colab": {
          "base_uri": "https://localhost:8080/",
          "height": 71
        }
      },
      "source": [
        "# Crea matrix identidad de 3x3 (arreglo cuyas entradas son todas cero excepto las diagonales)\n",
        "np.eye(3)"
      ],
      "execution_count": 0,
      "outputs": [
        {
          "output_type": "execute_result",
          "data": {
            "text/plain": [
              "array([[1., 0., 0.],\n",
              "       [0., 1., 0.],\n",
              "       [0., 0., 1.]])"
            ]
          },
          "metadata": {
            "tags": []
          },
          "execution_count": 20
        }
      ]
    },
    {
      "cell_type": "code",
      "metadata": {
        "id": "28vYL7y5fCEu",
        "colab_type": "code",
        "outputId": "6cd80158-f81b-4864-d3b5-137d4ebb4d7c",
        "colab": {
          "base_uri": "https://localhost:8080/",
          "height": 35
        }
      },
      "source": [
        "# Crea un array de tres enteros sin valores especificos\n",
        "# Los valores se toman de lo que exista en esa localizacion de la memoria\n",
        "np.empty(3)"
      ],
      "execution_count": 0,
      "outputs": [
        {
          "output_type": "execute_result",
          "data": {
            "text/plain": [
              "array([1., 1., 1.])"
            ]
          },
          "metadata": {
            "tags": []
          },
          "execution_count": 21
        }
      ]
    },
    {
      "cell_type": "markdown",
      "metadata": {
        "id": "j93dRpQWfCFb",
        "colab_type": "text"
      },
      "source": [
        "## Tipos de Datos Standard de NumPy \n",
        "\n",
        "- Los arrays de NumPy contienen valores de un solo tipo, veamos cuales pueden ser\n",
        "- NumPy está implementado en C, de modo que los tipos son similares a los usados en C, Fortran, y otros lenguajes relacionados\n",
        "- La siguiente tabla enlista los tipos de datos standard de NumPy \n",
        "- Cuando construyen un array se puede especificar el tipo usando texto:\n",
        "\n",
        "```python\n",
        "np.zeros(10, dtype='int16')\n",
        "```\n",
        "\n",
        "- O usando el objeto de NumPy asociado:\n",
        "\n",
        "```python\n",
        "np.zeros(10, dtype=np.int16)\n",
        "```"
      ]
    },
    {
      "cell_type": "markdown",
      "metadata": {
        "id": "4djVZWEKfCF0",
        "colab_type": "text"
      },
      "source": [
        "| Data type\t    | Description |\n",
        "|---------------|-------------|\n",
        "| ``bool_``     | Boolean (True or False) stored as a byte |\n",
        "| ``int_``      | Default integer type (same as C ``long``; normally either ``int64`` or ``int32``)| \n",
        "| ``intc``      | Identical to C ``int`` (normally ``int32`` or ``int64``)| \n",
        "| ``intp``      | Integer used for indexing (same as C ``ssize_t``; normally either ``int32`` or ``int64``)| \n",
        "| ``int8``      | Byte (-128 to 127)| \n",
        "| ``int16``     | Integer (-32768 to 32767)|\n",
        "| ``int32``     | Integer (-2147483648 to 2147483647)|\n",
        "| ``int64``     | Integer (-9223372036854775808 to 9223372036854775807)| \n",
        "| ``uint8``     | Unsigned integer (0 to 255)| \n",
        "| ``uint16``    | Unsigned integer (0 to 65535)| \n",
        "| ``uint32``    | Unsigned integer (0 to 4294967295)| \n",
        "| ``uint64``    | Unsigned integer (0 to 18446744073709551615)| \n",
        "| ``float_``    | Shorthand for ``float64``.| \n",
        "| ``float16``   | Half precision float: sign bit, 5 bits exponent, 10 bits mantissa| \n",
        "| ``float32``   | Single precision float: sign bit, 8 bits exponent, 23 bits mantissa| \n",
        "| ``float64``   | Double precision float: sign bit, 11 bits exponent, 52 bits mantissa| \n",
        "| ``complex_``  | Shorthand for ``complex128``.| \n",
        "| ``complex64`` | Complex number, represented by two 32-bit floats| \n",
        "| ``complex128``| Complex number, represented by two 64-bit floats| "
      ]
    },
    {
      "cell_type": "markdown",
      "metadata": {
        "id": "kHJFJwGMfCGL",
        "colab_type": "text"
      },
      "source": [
        "- Existen tipos mas avanzados; para mas información se refiere a la [documentacion de NumPy](http://numpy.org/)."
      ]
    },
    {
      "cell_type": "markdown",
      "metadata": {
        "id": "NJ_VpHCAfCGS",
        "colab_type": "text"
      },
      "source": [
        "<!--NAVIGATION-->\n",
        "< [Introducción a NumPy](01.00-Introduction-to-NumPy.ipynb) | [Contenido](Index.ipynb) | [Basicos de NumPy: arreglos](01.02-The-Basics-Of-NumPy-Arrays.ipynb) >\n",
        "\n",
        "<a href=\"https://colab.research.google.com/github/htapia/TallerPythonIntroCienciaDatos/blob/master/notebooks/01.01-Understanding-Data-Types.ipynb\"><img align=\"left\" src=\"https://colab.research.google.com/assets/colab-badge.svg\" alt=\"Open in Colab\" title=\"Open and Execute in Google Colaboratory\"></a>\n"
      ]
    }
  ]
}